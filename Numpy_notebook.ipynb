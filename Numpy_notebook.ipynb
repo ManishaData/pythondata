{
 "cells": [
  {
   "cell_type": "code",
   "execution_count": 1,
   "id": "15da31e8-2b8a-4846-9de8-186b6a4c1c67",
   "metadata": {},
   "outputs": [],
   "source": [
    "import numpy as np"
   ]
  },
  {
   "cell_type": "code",
   "execution_count": 5,
   "id": "b917136c-bd72-4c54-a2df-e1ca9e4fecfe",
   "metadata": {},
   "outputs": [
    {
     "name": "stdout",
     "output_type": "stream",
     "text": [
      "[11 22 33 44 55]\n",
      "<class 'numpy.ndarray'>\n"
     ]
    }
   ],
   "source": [
    "Array1 = np.array([11,22,33,44,55])\n",
    "print(Array1)\n",
    "print(type(Array1))"
   ]
  },
  {
   "cell_type": "code",
   "execution_count": 7,
   "id": "41ce64c0-a9c1-4c65-abe0-372843059105",
   "metadata": {},
   "outputs": [
    {
     "name": "stdout",
     "output_type": "stream",
     "text": [
      "[11, 22, 33, 44, 55, 66]\n",
      "<class 'list'>\n"
     ]
    }
   ],
   "source": [
    "list1 = [11,22,33,44,55,66]\n",
    "print(list1)\n",
    "print(type(list1))"
   ]
  },
  {
   "cell_type": "code",
   "execution_count": 8,
   "id": "cb6f6c5f-8d0a-4dd4-bb6b-76fa245418f2",
   "metadata": {},
   "outputs": [
    {
     "name": "stdout",
     "output_type": "stream",
     "text": [
      "[11 22 33 44 55 66]\n",
      "<class 'numpy.ndarray'>\n"
     ]
    }
   ],
   "source": [
    "Array2 = np.asarray(list1)\n",
    "print(Array2)\n",
    "print(type(Array2))"
   ]
  },
  {
   "cell_type": "code",
   "execution_count": null,
   "id": "90511962-3b0a-4a5b-9a00-84d3df07645a",
   "metadata": {},
   "outputs": [],
   "source": [
    "Array1 = np.asarray(Array2)"
   ]
  },
  {
   "cell_type": "code",
   "execution_count": 9,
   "id": "37465e4c-3cda-44ef-8a14-88202760d501",
   "metadata": {},
   "outputs": [
    {
     "name": "stdout",
     "output_type": "stream",
     "text": [
      "[ 1  2  3  4  5  6  7  8  9 10]\n",
      "<class 'numpy.ndarray'>\n"
     ]
    }
   ],
   "source": [
    "Array1 = np.array([1,2,3,4,5,6,7,8,9,10])\n",
    "print(Array1)\n",
    "print(type(Array1))"
   ]
  },
  {
   "cell_type": "code",
   "execution_count": 15,
   "id": "bc6b3b95-98a5-4080-b79a-bfb9980cc8f8",
   "metadata": {},
   "outputs": [
    {
     "name": "stdout",
     "output_type": "stream",
     "text": [
      "[ 1  2  3  4  5  6  7  8  9 10]\n",
      "<class 'numpy.ndarray'>\n"
     ]
    }
   ],
   "source": [
    "Array2 = np.arange(1,11)\n",
    "print(Array2)\n",
    "print(type(Array2))"
   ]
  },
  {
   "cell_type": "code",
   "execution_count": 20,
   "id": "855f6683-7daa-429b-b6be-a8f0c5318d2f",
   "metadata": {},
   "outputs": [
    {
     "name": "stdout",
     "output_type": "stream",
     "text": [
      "[['1' '1' '1' '1']\n",
      " ['1' '1' '1' '1']\n",
      " ['1' '1' '1' '1']]\n",
      "<class 'numpy.ndarray'>\n"
     ]
    }
   ],
   "source": [
    "#ones_array = np.array([1,1,1,1,1,1,1,1,1,1])\n",
    "#ones_array = np.ones((10,))\n",
    "ones_array = np.ones((3,4),dtype=str)\n",
    "print(ones_array)\n",
    "print(type(ones_array))"
   ]
  },
  {
   "cell_type": "code",
   "execution_count": 22,
   "id": "0323264c-6cdc-4e46-88d6-b60d976e87da",
   "metadata": {},
   "outputs": [
    {
     "name": "stdout",
     "output_type": "stream",
     "text": [
      "[[1 1]\n",
      " [1 1]]\n",
      "<class 'numpy.ndarray'>\n"
     ]
    }
   ],
   "source": [
    "arr = np.array([[11,22],[33,44]])\n",
    "ones_array = np.ones_like(arr)\n",
    "print(ones_array)\n",
    "print(type(ones_array))"
   ]
  },
  {
   "cell_type": "code",
   "execution_count": 24,
   "id": "dffad7d6-70fd-4f26-bc40-8a2a1d225439",
   "metadata": {},
   "outputs": [
    {
     "name": "stdout",
     "output_type": "stream",
     "text": [
      "[0 0 0 0 0 0 0 0 0 0]\n",
      "<class 'numpy.ndarray'>\n"
     ]
    }
   ],
   "source": [
    "#zero_array = np.zeros((10,))\n",
    "zero_array = np.zeros((10,),dtype=int)\n",
    "print(zero_array)\n",
    "print(type(zero_array))"
   ]
  },
  {
   "cell_type": "code",
   "execution_count": 30,
   "id": "a312d112-ef04-4ee9-9493-9d99f9992ef8",
   "metadata": {},
   "outputs": [
    {
     "name": "stdout",
     "output_type": "stream",
     "text": [
      "[0 0 0]\n",
      "int64\n"
     ]
    }
   ],
   "source": [
    "arr = np.array([\"0\",\"0\",\"0\"],dtype=int)\n",
    "zero_array = np.zeros_like(arr)\n",
    "print(zero_array)\n",
    "print(zero_array.dtype)"
   ]
  },
  {
   "cell_type": "code",
   "execution_count": 31,
   "id": "5c0a5196-da19-4ace-95d7-66a197dfef73",
   "metadata": {},
   "outputs": [
    {
     "name": "stdout",
     "output_type": "stream",
     "text": [
      "[[1.03977794e-312 1.03977794e-312 1.03977794e-312]\n",
      " [1.03977794e-312 1.03977794e-312 1.03977794e-312]]\n"
     ]
    }
   ],
   "source": [
    "empty_array = np.empty((2,3))\n",
    "print(empty_array)"
   ]
  },
  {
   "cell_type": "code",
   "execution_count": 32,
   "id": "07c3d94a-34a9-404b-8992-ee7ec1d0ac28",
   "metadata": {},
   "outputs": [
    {
     "name": "stdout",
     "output_type": "stream",
     "text": [
      "[0 0 0]\n"
     ]
    }
   ],
   "source": [
    "empty_array = np.empty_like(arr)\n",
    "print(empty_array)"
   ]
  },
  {
   "cell_type": "code",
   "execution_count": 33,
   "id": "78c354c9-55b5-4866-9ed3-42a1d725623f",
   "metadata": {},
   "outputs": [
    {
     "name": "stdout",
     "output_type": "stream",
     "text": [
      "[[1. 0. 0. 0.]\n",
      " [0. 1. 0. 0.]\n",
      " [0. 0. 1. 0.]\n",
      " [0. 0. 0. 1.]]\n",
      "<class 'numpy.ndarray'>\n",
      "2\n"
     ]
    }
   ],
   "source": [
    "eye_array = np.eye(4)\n",
    "print(eye_array)\n",
    "print(type(eye_array))\n",
    "print(eye_array.ndim)"
   ]
  },
  {
   "cell_type": "code",
   "execution_count": 35,
   "id": "f360ff4e-c9e4-49a6-adcc-b030cc907000",
   "metadata": {},
   "outputs": [
    {
     "name": "stdout",
     "output_type": "stream",
     "text": [
      "[[1. 0. 0. 0.]\n",
      " [0. 1. 0. 0.]\n",
      " [0. 0. 1. 0.]\n",
      " [0. 0. 0. 1.]]\n",
      "<class 'numpy.ndarray'>\n",
      "2\n"
     ]
    }
   ],
   "source": [
    "eye_array = np.identity(4)\n",
    "print(eye_array)\n",
    "print(type(eye_array))\n",
    "print(eye_array.ndim)"
   ]
  },
  {
   "cell_type": "code",
   "execution_count": 49,
   "id": "bfdc3918-cc15-4ec4-abf9-e5f5b180604f",
   "metadata": {},
   "outputs": [
    {
     "name": "stdout",
     "output_type": "stream",
     "text": [
      "[ 7  1  5  2  9 23 11 90]\n",
      "<class 'numpy.ndarray'>\n",
      "8\n",
      "9\n",
      "11\n",
      "[ 5  2  9 23]\n",
      "[ 7  1  5  2  9 23]\n",
      "[ 5  2  9 23 11 90]\n",
      "[ 7  5  9 11]\n",
      "[11 23  9  2]\n",
      "[90 11 23  9  2  5  1  7]\n"
     ]
    }
   ],
   "source": [
    "Array1 = np.array([7,1,5,2,9,23,11,90])\n",
    "print(Array1)\n",
    "print(type(Array1))\n",
    "print(Array1.size)\n",
    "print(Array1[4])\n",
    "print(Array1[-2])\n",
    "#print(Array1[15])\n",
    "#[start:end:step]\n",
    "#default start is 0\n",
    "#default end is size\n",
    "#default step is 1\n",
    "print(Array1[2:6])\n",
    "print(Array1[:6])\n",
    "print(Array1[2:])\n",
    "print(Array1[::2])\n",
    "print(Array1[-2:-6:-1])\n",
    "print(Array1[::-1])"
   ]
  },
  {
   "cell_type": "code",
   "execution_count": 6,
   "id": "af139a60-aef2-4712-b69b-94b41be3971e",
   "metadata": {},
   "outputs": [
    {
     "name": "stdout",
     "output_type": "stream",
     "text": [
      "[[ 7  1  4  5]\n",
      " [ 9  6 12 88]\n",
      " [11 66 22 44]\n",
      " [10 20 40 30]]\n",
      "[11 66 22 44]\n",
      "[ 9  6 12 88]\n",
      "12\n",
      "22\n"
     ]
    }
   ],
   "source": [
    "#+ve and -ve indexing on 2-D array\n",
    "Array1 = np.array([[7,1,4,5],[9,6,12,88],[11,66,22,44],[10,20,40,30]])\n",
    "print(Array1)\n",
    "print(Array1[2])\n",
    "print(Array1[-3])\n",
    "print(Array1[1,2])#Ar[1][2]\n",
    "print(Array1[-2,-2])"
   ]
  },
  {
   "cell_type": "code",
   "execution_count": 8,
   "id": "2c00bb0c-6ff2-4e8a-bfe5-175384f6a318",
   "metadata": {},
   "outputs": [
    {
     "name": "stdout",
     "output_type": "stream",
     "text": [
      "[[ 9  6 12 88]\n",
      " [11 66 22 44]]\n",
      "[[ 9  6 12]\n",
      " [11 66 22]]\n",
      "[[ 4  5]\n",
      " [12 88]\n",
      " [22 44]\n",
      " [40 30]]\n",
      "[[ 5  4]\n",
      " [88 12]\n",
      " [44 22]\n",
      " [30 40]]\n",
      "[[ 7  1  4  5]\n",
      " [11 66 22 44]]\n",
      "[[ 5  4  1  7]\n",
      " [44 22 66 11]]\n"
     ]
    }
   ],
   "source": [
    "#+ve and -ve slicing on 2-D array\n",
    "Array1 = np.array([[7,1,4,5],[9,6,12,88],[11,66,22,44],[10,20,40,30]])\n",
    "print(Array1[1:3])\n",
    "\n",
    "print(Array1[1:3,0:3])\n",
    "\n",
    "print(Array1[:, 2:4])\n",
    "\n",
    "print(Array1[:, -1:-3:-1])\n",
    "\n",
    "print(Array1[::2, :])\n",
    "\n",
    "print(Array1[::2, -1::-1])"
   ]
  },
  {
   "cell_type": "code",
   "execution_count": 10,
   "id": "c9315be1-5d6d-4177-a071-ae21c705712d",
   "metadata": {},
   "outputs": [
    {
     "name": "stdout",
     "output_type": "stream",
     "text": [
      "[1 2 3 4 5 6 7 8 9]\n",
      "4\n"
     ]
    }
   ],
   "source": [
    "Array1 = np.arange(1,10)\n",
    "print(Array1)\n",
    "print(Array1[3])"
   ]
  },
  {
   "cell_type": "code",
   "execution_count": 14,
   "id": "2e15e875-1382-4a9e-9199-55c9e689b8a7",
   "metadata": {},
   "outputs": [
    {
     "name": "stdout",
     "output_type": "stream",
     "text": [
      "<class 'numpy.ndarray'>\n",
      "[5 2 9]\n",
      "[4 2 9 6 2]\n"
     ]
    }
   ],
   "source": [
    "#create an new array with elements. 4, 1, 8\n",
    "index = np.array([4,1,8])\n",
    "print(type(index))\n",
    "#print elements at index 4,1,8 from Array1\n",
    "print(Array1[index])\n",
    "#print elements at index 3,1,8,5,1 from Array1\n",
    "print(Array1[list((3,1,8,5,1))])"
   ]
  },
  {
   "cell_type": "code",
   "execution_count": null,
   "id": "13612ed9-44d2-4dfe-80f8-f55ae64cc118",
   "metadata": {},
   "outputs": [],
   "source": [
    "#create an new array with elements. 1, 4, 7\n",
    "index = np.array([1,4,7])\n",
    "print(type(index))"
   ]
  },
  {
   "cell_type": "code",
   "execution_count": 17,
   "id": "40e7845d-432e-4f95-91ed-740f6d3bf959",
   "metadata": {},
   "outputs": [
    {
     "name": "stdout",
     "output_type": "stream",
     "text": [
      "[1 2 3 4 5 6 7 8 9]\n",
      "<class 'numpy.ndarray'>\n",
      "[1 4 7]\n",
      "[ 1 40  7]\n",
      "[1 2 3 4 5 6 7 8 9]\n"
     ]
    }
   ],
   "source": [
    "Array1 = np.arange(1,10)\n",
    "print(Array1)\n",
    "#create an new array with elements. 1, 4, 7\n",
    "index = np.array([1,4,7])\n",
    "print(type(index))\n",
    "print(index)\n",
    "index[1] = 40\n",
    "print(index)\n",
    "print(Array1)"
   ]
  },
  {
   "cell_type": "code",
   "execution_count": 6,
   "id": "aa7a7ff9-a2f8-4c05-9c2a-0ba43c354176",
   "metadata": {},
   "outputs": [
    {
     "name": "stdout",
     "output_type": "stream",
     "text": [
      "[2 5 8]\n"
     ]
    }
   ],
   "source": [
    "print(Array1[index])#it retrun elements of Array1 at index 1,4,7"
   ]
  },
  {
   "cell_type": "code",
   "execution_count": 8,
   "id": "556e754b-4693-40f9-bbf2-c6f75392cf55",
   "metadata": {},
   "outputs": [
    {
     "name": "stdout",
     "output_type": "stream",
     "text": [
      "[[ 1  2  3]\n",
      " [ 4  5  6]\n",
      " [ 7  8  9]\n",
      " [10 11 12]\n",
      " [13 14 15]]\n"
     ]
    }
   ],
   "source": [
    "Array1 = np.arange(1,16).reshape(5,3)\n",
    "print(Array1)"
   ]
  },
  {
   "cell_type": "code",
   "execution_count": 10,
   "id": "58bb5a6d-414c-4664-bc9f-2ebc77e57bb5",
   "metadata": {},
   "outputs": [
    {
     "name": "stdout",
     "output_type": "stream",
     "text": [
      "[[4 5 6]\n",
      " [7 8 9]]\n",
      "[[ 7  8  9]\n",
      " [ 1  2  3]\n",
      " [13 14 15]]\n"
     ]
    }
   ],
   "source": [
    "print(Array1[1:3])\n",
    "idx = np.array([2,0,4])\n",
    "print(Array1[idx])"
   ]
  },
  {
   "cell_type": "code",
   "execution_count": 12,
   "id": "d91a2fd1-910b-4b06-8ce8-049302011318",
   "metadata": {},
   "outputs": [
    {
     "name": "stdout",
     "output_type": "stream",
     "text": [
      "[ 1  2  3  4  5  6  7  8  9 10 11 12 13 14 15 16 17 18 19 20 21 22 23 24\n",
      " 25 26 27 28 29 30 31 32 33 34 35 36 37 38 39 40 41 42 43 44 45 46 47 48\n",
      " 49]\n",
      "5\n"
     ]
    }
   ],
   "source": [
    "Array1 = np.arange(1,50)\n",
    "print(Array1)\n",
    "print(Array1[4])"
   ]
  },
  {
   "cell_type": "code",
   "execution_count": 14,
   "id": "77473984-b61d-453e-8c9c-15e52115fb49",
   "metadata": {},
   "outputs": [
    {
     "name": "stdout",
     "output_type": "stream",
     "text": [
      "[False False False False  True False False False False  True False False\n",
      " False False  True False False False False  True False False False False\n",
      "  True False False False False  True False False False False  True False\n",
      " False False False  True False False False False  True False False False\n",
      " False]\n"
     ]
    }
   ],
   "source": [
    "print(Array1%5 == 0)\n",
    "\n",
    "print(Array1[Array1%5 == 0])"
   ]
  },
  {
   "cell_type": "code",
   "execution_count": 19,
   "id": "14866f08-b814-4b59-a32c-072f63c3bf16",
   "metadata": {},
   "outputs": [
    {
     "name": "stdout",
     "output_type": "stream",
     "text": [
      "[array([ True, False, False,  True, False, False])]\n",
      "['Akash' 'Akash']\n"
     ]
    }
   ],
   "source": [
    "names = np.array(['Akash','Riya','Prakash','Akash','Siya',\n",
    "                  'akash'])\n",
    "bool_array = ([names=='Akash'])\n",
    "print(bool_array)\n",
    "print(names[names=='Akash'])"
   ]
  },
  {
   "cell_type": "code",
   "execution_count": 34,
   "id": "0ec9c839-b544-4bc6-9f5a-7ad66b01ff7e",
   "metadata": {},
   "outputs": [
    {
     "name": "stdout",
     "output_type": "stream",
     "text": [
      "[[0 0 0 0 0 0 0 0]\n",
      " [1 1 1 1 1 1 1 1]\n",
      " [2 2 2 2 2 2 2 2]\n",
      " [3 3 3 3 3 3 3 3]\n",
      " [4 4 4 4 4 4 4 4]\n",
      " [5 5 5 5 5 5 5 5]\n",
      " [6 6 6 6 6 6 6 6]\n",
      " [7 7 7 7 7 7 7 7]]\n",
      "[4 4 4 4 4 4 4 4]\n",
      "[[ 0  0  0  0  0  0  0  0]\n",
      " [ 1  1  1  1  1  1  1  1]\n",
      " [ 2  2  2  2  2  2  2  2]\n",
      " [ 3  3  3  3  3  3  3  3]\n",
      " [10 10 10 10 10 10 10 10]\n",
      " [ 5  5  5  5  5  5  5  5]\n",
      " [ 6  6  6  6  6  6  6  6]\n",
      " [ 7  7  7  7  7  7  7  7]]\n"
     ]
    }
   ],
   "source": [
    "array1 = np.empty((8,8),dtype=int)\n",
    "for r in range(8):\n",
    "    array1[r] = r\n",
    "\n",
    "print(array1)\n",
    "print(array1[4])\n",
    "array1[4] = 10\n",
    "print(array1)"
   ]
  },
  {
   "cell_type": "code",
   "execution_count": 41,
   "id": "a4a6cadc-e5c7-45b0-916e-e34790a1c585",
   "metadata": {},
   "outputs": [
    {
     "name": "stdout",
     "output_type": "stream",
     "text": [
      "[[0 0 0 0 0 0 0 0]\n",
      " [0 0 0 0 0 0 0 0]\n",
      " [0 0 0 0 0 0 0 0]\n",
      " [0 0 0 0 0 0 0 0]\n",
      " [0 0 0 0 0 0 0 0]\n",
      " [0 0 0 0 0 0 0 0]\n",
      " [0 0 0 0 0 0 0 0]\n",
      " [0 0 0 0 0 0 0 0]]\n"
     ]
    }
   ],
   "source": [
    "chessboard = np.zeros((8,8),dtype=int)\n",
    "print(chessboard)"
   ]
  },
  {
   "cell_type": "code",
   "execution_count": 42,
   "id": "2d40d6aa-02d6-421c-86c7-d3f2b344751a",
   "metadata": {},
   "outputs": [
    {
     "name": "stdout",
     "output_type": "stream",
     "text": [
      "[[0 1 0 1 0 1 0 1]\n",
      " [1 0 1 0 1 0 1 0]\n",
      " [0 1 0 1 0 1 0 1]\n",
      " [1 0 1 0 1 0 1 0]\n",
      " [0 1 0 1 0 1 0 1]\n",
      " [1 0 1 0 1 0 1 0]\n",
      " [0 1 0 1 0 1 0 1]\n",
      " [1 0 1 0 1 0 1 0]]\n"
     ]
    }
   ],
   "source": [
    "# even_rows = np.array([0,2,4,6])\n",
    "# odd_rows = np.array([1,3,5,7])\n",
    "# chessboard[even_rows,1::2] = 1\n",
    "# chessboard[odd_rows,0::2] = 1\n",
    "#print(chessboard)\n",
    "\n",
    "# or\n",
    "\n",
    "chessboard[0::2,1::2] = 1\n",
    "chessboard[1::2,0::2] = 1\n",
    "print(chessboard)"
   ]
  },
  {
   "cell_type": "code",
   "execution_count": 44,
   "id": "dadc0dbe-9af2-470e-8343-b9cc057e6cd9",
   "metadata": {},
   "outputs": [
    {
     "name": "stdout",
     "output_type": "stream",
     "text": [
      "[1 2 3 4 5 6 7 8 9]\n",
      "[  1   8  27  64 125 216 343 512 729]\n"
     ]
    }
   ],
   "source": [
    "#arithmetic op. on an array with scalar value\n",
    "array1 = np.arange(1,10)\n",
    "print(array1)\n",
    "array1 = array1+10 # -, *, /, **, //\n",
    "print(array1)"
   ]
  },
  {
   "cell_type": "code",
   "execution_count": 45,
   "id": "498c267e-1d73-44fa-a8bb-b5c9b517f36d",
   "metadata": {},
   "outputs": [
    {
     "name": "stdout",
     "output_type": "stream",
     "text": [
      "[[1 2 3]\n",
      " [4 5 6]\n",
      " [7 8 9]]\n",
      "[[-9 -8 -7]\n",
      " [-6 -5 -4]\n",
      " [-3 -2 -1]]\n"
     ]
    }
   ],
   "source": [
    "#arithmetic op. on an array with scalar value\n",
    "array1 = np.arange(1,10).reshape(3,3)\n",
    "print(array1)\n",
    "array1 = array1+10 # -, *, /, **, //\n",
    "print(array1)"
   ]
  },
  {
   "cell_type": "code",
   "execution_count": 51,
   "id": "e6a546e4-9a6b-4bbb-ae48-cdac85eae868",
   "metadata": {},
   "outputs": [
    {
     "name": "stdout",
     "output_type": "stream",
     "text": [
      "[[1 2]\n",
      " [3 4]\n",
      " [5 6]]\n",
      "[[11 12]\n",
      " [13 14]\n",
      " [15 16]]\n",
      "[[12 14]\n",
      " [16 18]\n",
      " [20 22]]\n"
     ]
    }
   ],
   "source": [
    "#on same shape arrays\n",
    "array1 = np.arange(1,7).reshape(3,2)\n",
    "print(array1)\n",
    "array2 = np.arange(11,17).reshape(3,2)\n",
    "print(array2)\n",
    "array3 = array1+array2\n",
    "print(array3)"
   ]
  },
  {
   "cell_type": "code",
   "execution_count": 54,
   "id": "8daf58fa-3847-4e87-8ab1-9703f832037e",
   "metadata": {},
   "outputs": [
    {
     "name": "stdout",
     "output_type": "stream",
     "text": [
      "[[1 2]\n",
      " [3 4]\n",
      " [5 6]]\n",
      "[[1]\n",
      " [2]\n",
      " [3]]\n",
      "[[2 3]\n",
      " [5 6]\n",
      " [8 9]]\n"
     ]
    }
   ],
   "source": [
    "array1 = np.arange(1,7).reshape(3,2)\n",
    "print(array1)\n",
    "array2 = np.arange(1,4).reshape(3,1)\n",
    "print(array2)\n",
    "array3 = array1+array2\n",
    "print(array3)"
   ]
  },
  {
   "cell_type": "code",
   "execution_count": 55,
   "id": "df6f38d9-161a-4bee-ad9e-4036ac18c907",
   "metadata": {},
   "outputs": [
    {
     "name": "stdout",
     "output_type": "stream",
     "text": [
      "[[1 2]\n",
      " [3 4]\n",
      " [5 6]]\n",
      "[1 2]\n",
      "[[2 4]\n",
      " [4 6]\n",
      " [6 8]]\n"
     ]
    }
   ],
   "source": [
    "array1 = np.arange(1,7).reshape(3,2)\n",
    "print(array1)\n",
    "array2 = np.arange(1,3).reshape(2,)\n",
    "print(array2)\n",
    "array3 = array1+array2\n",
    "print(array3)"
   ]
  },
  {
   "cell_type": "markdown",
   "id": "9fa3805c-7f19-4048-b53b-4a3cb369133e",
   "metadata": {},
   "source": [
    "2\n",
    "3\n",
    "Braodcasting for the arithmetic op. on 2 arrays\n",
    "array1 (m,n)\n",
    "second array should be in shape\n",
    "array2 (m,n)\n",
    "       (m,1)\n",
    "       (n,)\n"
   ]
  },
  {
   "cell_type": "code",
   "execution_count": 2,
   "id": "1dea73b2-ca9b-42a5-a07a-9525e4bf15b9",
   "metadata": {},
   "outputs": [
    {
     "name": "stdout",
     "output_type": "stream",
     "text": [
      "[ True False False False]\n",
      "[ True  True  True False]\n",
      "[False False  True  True]\n",
      "[False  True  True False]\n"
     ]
    }
   ],
   "source": [
    "a = np.array([True,True,False,False])\n",
    "b = np.array([True,False,True,False])\n",
    "c = np.logical_and(a,b)\n",
    "print(c)\n",
    "c = np.logical_or(a,b)\n",
    "print(c)\n",
    "c = np.logical_not(a)\n",
    "print(c)\n",
    "c = np.logical_xor(a,b)\n",
    "print(c)"
   ]
  },
  {
   "cell_type": "code",
   "execution_count": 6,
   "id": "8e7ef418-42f5-4d13-927a-7fceeb2e5a3a",
   "metadata": {},
   "outputs": [
    {
     "name": "stdout",
     "output_type": "stream",
     "text": [
      "[1 2 3 4 5]\n",
      "[11 12 13 14 15]\n",
      "[12 14 16 18 20]\n",
      "[11 24 39 56 75]\n",
      "[-10 -10 -10 -10 -10]\n",
      "[0.09090909 0.16666667 0.23076923 0.28571429 0.33333333]\n",
      "[1.         1.41421356 1.73205081 2.         2.23606798]\n",
      "[ 1  4  9 16 25]\n",
      "[ 8  5  1  5  2 56  1  2  3]\n",
      "[ 1  2  3  5  8 56]\n",
      "56\n",
      "1\n",
      "2\n",
      "5\n",
      "[ 8.          5.          1.          5.          2.         56.\n",
      "  1.          2.          3.         11.         12.         13.\n",
      " 14.         15.          0.09090909  0.16666667  0.23076923  0.28571429\n",
      "  0.33333333]\n",
      "[  8   5  -1   5   2 -56   1  -2   3]\n",
      "[ 8  5  1  5  2 56  1  2  3]\n",
      "-3.888888888888889\n",
      "2.0\n",
      "348.0987654320988\n"
     ]
    }
   ],
   "source": [
    "#numpy mathematical and statistical functions\n",
    "array1 = np.arange(1,6)\n",
    "array2 = np.arange(11,16)\n",
    "print(array1)\n",
    "print(array2)\n",
    "array3 = np.add(array1,array2)\n",
    "print(array3)\n",
    "array3 = np.multiply(array1,array2)\n",
    "print(array3)\n",
    "array3 = np.subtract(array1,array2)\n",
    "print(array3)\n",
    "array3 = np.divide(array1,array2)\n",
    "print(array3)\n",
    "# array3 = np.dot(array1,array2)\n",
    "# print(array3)\n",
    "newarray = np.sqrt(array1)\n",
    "print(newarray)\n",
    "newarray = np.power(array1,2)\n",
    "print(newarray)\n",
    "\n",
    "array1 = np.array([8,5,1,5,2,56,1,2,3])\n",
    "print(array1)\n",
    "print(np.unique(array1))\n",
    "print(np.max(array1))\n",
    "print(np.min(array1))\n",
    "print(np.argmin(array1))\n",
    "print(np.argmax(array1))\n",
    "\n",
    "array3=np.concatenate((array1,array2,array3))\n",
    "print(array3)\n",
    "\n",
    "array1 = np.array([8,5,-1,5,2,-56,1,-2,3])\n",
    "print(array1)\n",
    "print(np.abs(array1))\n",
    "print(np.mean(array1))\n",
    "print(np.median(array1))\n",
    "print(np.var(array1))"
   ]
  },
  {
   "cell_type": "code",
   "execution_count": 9,
   "id": "edec4676-e71c-4e76-9666-a091ef16b23e",
   "metadata": {},
   "outputs": [
    {
     "name": "stdout",
     "output_type": "stream",
     "text": [
      "['a.a.a' 'b.b.b' 'c.c.c' 'd.d.d.d']\n",
      "['.' '.' '.' '.']\n",
      "[['haaaeaaalaaal' 'hbbbebbblbbbl' 'hccceccclcccl' 'hddddeddddlddddl']\n",
      " ['hccceccclcccl' 'hddddeddddlddddl' 'heeeeeeeleeel' 'hffffefffflffffl']]\n",
      "['aaaccc' 'bbbdddd' 'ccceee' 'ddddffff']\n",
      "['ccc' 'dddd' 'eee' 'ffrrff']\n",
      "['CCC' 'DDDD' 'EEE' 'FFRRFF']\n",
      "['***Ccc****' '***ddDd***' '***eeE****' '**ffRRff**']\n",
      "[list(['Ccc']) list(['ddDd']) list(['eeE']) list(['ffRRff'])]\n",
      "Hello Adv Python\n",
      "['aec' 'ecd' 'cae']\n"
     ]
    }
   ],
   "source": [
    "#numpy character and string functions\n",
    "array1 = np.array(['aaa','bbb','ccc','dddd'])\n",
    "array2 = np.array(['ccc','dddd','eee','ffff'])\n",
    "\n",
    "print(np.char.join(\".\",array1))\n",
    "\n",
    "print(np.char.join(\".\",\"Hello\"))\n",
    "\n",
    "print(np.char.join([array1,array2],'hell'))\n",
    "\n",
    "array3 = np.char.add(array1,array2)\n",
    "print(array3)\n",
    "\n",
    "array2 = np.array(['Ccc','ddDd','eeE','ffRRff'])\n",
    "print(np.char.lower(array2))\n",
    "print(np.char.upper(array2))\n",
    "print(np.char.center(array2,10,'*'))\n",
    "print(np.char.split(array2))\n",
    "\n",
    "print(np.char.replace(\"Hello Python\",\"Python\",\"Adv Python\"))\n",
    "array1 = np.array(['abc','bcd','cab'])\n",
    "print(np.char.replace(array1,'b','e'))"
   ]
  },
  {
   "cell_type": "code",
   "execution_count": 17,
   "id": "3df203fe-f68b-4c55-a9e2-21f4b86e6bbe",
   "metadata": {},
   "outputs": [
    {
     "name": "stdout",
     "output_type": "stream",
     "text": [
      "True\n",
      "2\n",
      "-1\n",
      "False\n",
      "True\n",
      "True\n"
     ]
    }
   ],
   "source": [
    "print(np.char.equal('Hello','Hello'))\n",
    "print(np.char.count('hello','l'))\n",
    "print(np.char.find('hello','a'))\n",
    "print(np.char.isalpha('hel6lo'))\n",
    "print(np.char.islower('hello'))\n",
    "print(np.char.isupper('HI'))"
   ]
  },
  {
   "cell_type": "code",
   "execution_count": 20,
   "id": "ef6bbe63-3f6d-48e3-91d0-0e23110a174e",
   "metadata": {},
   "outputs": [
    {
     "name": "stdout",
     "output_type": "stream",
     "text": [
      "[ 1  2  3  4  5  6  7  8  9 10]\n",
      "[4 5 6 7]\n"
     ]
    }
   ],
   "source": [
    "#numpy set method\n",
    "array1 = np.arange(1,11)\n",
    "array2 = np.arange(4,8)\n",
    "print(array1)\n",
    "print(array2)"
   ]
  },
  {
   "cell_type": "code",
   "execution_count": 22,
   "id": "3a89badf-1c58-4ffc-8d3f-6eb061a7abda",
   "metadata": {},
   "outputs": [
    {
     "name": "stdout",
     "output_type": "stream",
     "text": [
      "[ True  True  True  True]\n"
     ]
    }
   ],
   "source": [
    "#print(np.in1d(array2,array1))#check first array is in second array or not\n",
    "print(np.isin(array2,array1))"
   ]
  },
  {
   "cell_type": "code",
   "execution_count": 23,
   "id": "4c442641-beb6-4eed-a082-63a18d5cc109",
   "metadata": {},
   "outputs": [
    {
     "name": "stdout",
     "output_type": "stream",
     "text": [
      "[ 1  2  3  4  5  6  7  8  9 10]\n",
      "[ 4  5  6  7  8  9 10 11 12 13 14]\n",
      "[ 1  2  3  4  5  6  7  8  9 10 11 12 13 14]\n",
      "[ 4  5  6  7  8  9 10]\n",
      "[1 2 3]\n",
      "[ 1  2  3 11 12 13 14]\n"
     ]
    }
   ],
   "source": [
    "array1 = np.arange(1,11)\n",
    "array2 = np.arange(4,15)\n",
    "print(array1)\n",
    "print(array2)\n",
    "print(np.union1d(array1,array2))\n",
    "print(np.intersect1d(array1,array2))\n",
    "print(np.setdiff1d(array1,array2))\n",
    "print(np.setxor1d(array2,array1))\n"
   ]
  },
  {
   "cell_type": "code",
   "execution_count": 3,
   "id": "24fc2601-959f-4e3f-8ec5-b8748001bcbf",
   "metadata": {},
   "outputs": [
    {
     "name": "stdout",
     "output_type": "stream",
     "text": [
      "[1. 1. 1. 1. 1. 1. 1. 1. 1. 1.]\n",
      "1\n",
      "(10,)\n"
     ]
    }
   ],
   "source": [
    "import numpy as np\n",
    "#ones_array = np.array([1,1,1,1,1,1,1,1,1,1])\n",
    "ones_array = np.ones(10)\n",
    "print(ones_array)\n",
    "print(ones_array.ndim)\n",
    "print(ones_array.shape)"
   ]
  },
  {
   "cell_type": "code",
   "execution_count": 5,
   "id": "64835f7c-5f64-41b8-a083-f314bf8d8c92",
   "metadata": {},
   "outputs": [
    {
     "name": "stdout",
     "output_type": "stream",
     "text": [
      "[[ 1  2  3  4]\n",
      " [11 22 33 44]\n",
      " [10 20 30 40]]\n",
      "2\n",
      "(3, 4)\n",
      "[[1 1 1 1]\n",
      " [1 1 1 1]\n",
      " [1 1 1 1]]\n",
      "2\n",
      "(3, 4)\n"
     ]
    }
   ],
   "source": [
    "array1 = np.array([[1,2,3,4],[11,22,33,44],[10,20,30,40]])\n",
    "print(array1)\n",
    "print(array1.ndim)\n",
    "print(array1.shape)\n",
    "ones_array = np.ones_like(array1)\n",
    "print(ones_array)\n",
    "print(ones_array.ndim)\n",
    "print(ones_array.shape)"
   ]
  },
  {
   "cell_type": "code",
   "execution_count": 9,
   "id": "8870834a-9ce9-4eb0-ab72-6153e1a752ab",
   "metadata": {},
   "outputs": [
    {
     "name": "stdout",
     "output_type": "stream",
     "text": [
      "[0. 0. 0. 0. 0. 0. 0. 0. 0. 0. 0. 0. 0. 0. 0.]\n",
      "1\n",
      "(15,)\n"
     ]
    }
   ],
   "source": [
    "#zeros_array = np.array([0,0,0,0,0])\n",
    "zeros_array = np.zeros(15)\n",
    "print(zeros_array)\n",
    "print(zeros_array.ndim)\n",
    "print(zeros_array.shape)"
   ]
  },
  {
   "cell_type": "code",
   "execution_count": 10,
   "id": "a9bafabc-9c2e-49ce-87ce-dd5e5dc59c92",
   "metadata": {},
   "outputs": [
    {
     "name": "stdout",
     "output_type": "stream",
     "text": [
      "[[ 1  2  3  4]\n",
      " [11 22 33 44]]\n",
      "2\n",
      "(2, 4)\n",
      "[[0 0 0 0]\n",
      " [0 0 0 0]]\n",
      "2\n",
      "(2, 4)\n"
     ]
    }
   ],
   "source": [
    "array1 = np.array([[1,2,3,4],[11,22,33,44]])\n",
    "print(array1)\n",
    "print(array1.ndim)\n",
    "print(array1.shape)\n",
    "zeros_array = np.zeros_like(array1)\n",
    "print(zeros_array)\n",
    "print(zeros_array.ndim)\n",
    "print(zeros_array.shape)"
   ]
  },
  {
   "cell_type": "code",
   "execution_count": 13,
   "id": "2fb931d5-066d-432c-b88b-cd0c02cb5739",
   "metadata": {},
   "outputs": [
    {
     "name": "stdout",
     "output_type": "stream",
     "text": [
      "[0. 0. 0. 0. 0.]\n",
      "1\n",
      "(5,)\n",
      "5\n",
      "40\n",
      "[[  1   2]\n",
      " [ 11  22]\n",
      " [111 222]]\n",
      "[[  1   2]\n",
      " [ 11  22]\n",
      " [111 222]]\n",
      "2\n",
      "(3, 2)\n",
      "6\n",
      "48\n"
     ]
    }
   ],
   "source": [
    "empty_array = np.empty(5)\n",
    "print(empty_array)\n",
    "print(empty_array.ndim)\n",
    "print(empty_array.shape)\n",
    "print(empty_array.size)\n",
    "print(empty_array.nbytes)\n",
    "\n",
    "array1 = np.array([[1,2],[11,22],[111,222]])\n",
    "print(array1)\n",
    "empty_array = np.empty_like(array1)\n",
    "print(empty_array)\n",
    "print(empty_array.ndim)\n",
    "print(empty_array.shape)\n",
    "print(empty_array.size)\n",
    "print(empty_array.nbytes)"
   ]
  },
  {
   "cell_type": "code",
   "execution_count": 15,
   "id": "451f81e6-0a8c-479a-abae-ffb5aff76d29",
   "metadata": {},
   "outputs": [
    {
     "name": "stdout",
     "output_type": "stream",
     "text": [
      "[[1. 0. 0.]\n",
      " [0. 1. 0.]\n",
      " [0. 0. 1.]]\n",
      "[[1. 0. 0. 0. 0.]\n",
      " [0. 1. 0. 0. 0.]\n",
      " [0. 0. 1. 0. 0.]\n",
      " [0. 0. 0. 1. 0.]\n",
      " [0. 0. 0. 0. 1.]]\n"
     ]
    }
   ],
   "source": [
    "eye_array = np.eye(3)\n",
    "print(eye_array)\n",
    "\n",
    "eye_array = np.identity(5)\n",
    "print(eye_array)"
   ]
  },
  {
   "cell_type": "code",
   "execution_count": 19,
   "id": "e244fb22-df5f-4116-a67d-afbe3241b9ec",
   "metadata": {},
   "outputs": [
    {
     "name": "stdout",
     "output_type": "stream",
     "text": [
      "[ 1  2  3  4  5  6  7  8  9 10 11 12 13 14 15 16 17 18 19 20 21 22 23 24\n",
      " 25 26 27 28 29 30 31 32 33 34 35 36 37 38 39 40 41 42 43 44 45 46 47 48\n",
      " 49 50]\n",
      "[ 1.   13.25 25.5  37.75 50.  ]\n",
      "[ 1.  25.5 50. ]\n"
     ]
    }
   ],
   "source": [
    "array1 = np.arange(1,51)\n",
    "print(array1)\n",
    "array1 = np.linspace(1,50,5)\n",
    "print(array1)\n",
    "array1 = np.linspace(1,50,3)\n",
    "print(array1)"
   ]
  },
  {
   "cell_type": "code",
   "execution_count": 21,
   "id": "2bd1c7b1-3e34-4a67-a35e-557bba7fb320",
   "metadata": {},
   "outputs": [
    {
     "name": "stdout",
     "output_type": "stream",
     "text": [
      "[ 1  2  3  4  5  6  7  8  9 10 11 12 13 14 15 16 17 18 19 20 21 22 23 24\n",
      " 25 26 27 28 29 30 31 32 33 34 35 36 37 38 39 40 41 42 43 44 45 46 47 48\n",
      " 49 50]\n",
      "[False False False False  True False False False False  True False False\n",
      " False False  True False False False False  True False False False False\n",
      "  True False False False False  True False False False False  True False\n",
      " False False False  True False False False False  True False False False\n",
      " False  True]\n",
      "[ 5 10 15 20 25 30 35 40 45 50]\n"
     ]
    }
   ],
   "source": [
    "Array1 = np.arange(1,51)\n",
    "print(Array1)\n",
    "# Bool_Array = Array1%5\n",
    "Bool_Array = (Array1%5==0)\n",
    "print(Bool_Array)\n",
    "\n",
    "print(Array1[Bool_Array])"
   ]
  },
  {
   "cell_type": "code",
   "execution_count": 33,
   "id": "2d680cd0-4d4a-420d-ada4-3592b439549b",
   "metadata": {},
   "outputs": [
    {
     "name": "stdout",
     "output_type": "stream",
     "text": [
      "['Nashik' 'Pune' 'Mumbai' 'Chennai']\n",
      "[]\n"
     ]
    }
   ],
   "source": [
    "Cities = np.array([\"Nashik\",\"Pune\",\"Mumbai\",\"Chennai\"])\n",
    "print(Cities)\n",
    "# print(\"i\" in \"Mumbai\")\n",
    "print(Cities[\"i\" in Cities])"
   ]
  },
  {
   "cell_type": "code",
   "execution_count": 38,
   "id": "be4bac8f-ca73-4f94-88dd-5d5fac1b1d23",
   "metadata": {},
   "outputs": [
    {
     "name": "stdout",
     "output_type": "stream",
     "text": [
      "[[0 0 0 0 0 0 0 0]\n",
      " [0 0 0 0 0 0 0 0]\n",
      " [0 0 0 0 0 0 0 0]\n",
      " [0 0 0 0 0 0 0 0]\n",
      " [0 0 0 0 0 0 0 0]\n",
      " [0 0 0 0 0 0 0 0]\n",
      " [0 0 0 0 0 0 0 0]\n",
      " [0 0 0 0 0 0 0 0]]\n",
      "[[0 1 0 1 0 1 0 1]\n",
      " [1 0 1 0 1 0 1 0]\n",
      " [0 1 0 1 0 1 0 1]\n",
      " [1 0 1 0 1 0 1 0]\n",
      " [0 1 0 1 0 1 0 1]\n",
      " [1 0 1 0 1 0 1 0]\n",
      " [0 1 0 1 0 1 0 1]\n",
      " [1 0 1 0 1 0 1 0]]\n"
     ]
    }
   ],
   "source": [
    "Chess_Board = np.zeros((8,8),dtype=int)\n",
    "print(Chess_Board)\n",
    "Chess_Board[0::2,1::2] = 1\n",
    "Chess_Board[1::2,0::2] = 1\n",
    "print(Chess_Board)"
   ]
  },
  {
   "cell_type": "code",
   "execution_count": 48,
   "id": "e201034a-6dbb-4a3e-9d78-202b55d2d541",
   "metadata": {},
   "outputs": [
    {
     "name": "stdout",
     "output_type": "stream",
     "text": [
      "[1 2 3]\n",
      "[11 22 33]\n",
      "[12 24 36]\n"
     ]
    }
   ],
   "source": [
    "array1 = np.array([1,2,3])\n",
    "array2 = np.array([11,22,33])\n",
    "array3 = array1+array2\n",
    "print(array1)\n",
    "print(array2)\n",
    "print(array3)"
   ]
  },
  {
   "cell_type": "code",
   "execution_count": 50,
   "id": "22ab5fc6-68ab-4e99-a98c-5e6af2241e8c",
   "metadata": {},
   "outputs": [
    {
     "name": "stdout",
     "output_type": "stream",
     "text": [
      "[1 2 3]\n",
      "[[8]\n",
      " [5]\n",
      " [9]]\n",
      "[[ 9 10 11]\n",
      " [ 6  7  8]\n",
      " [10 11 12]]\n"
     ]
    }
   ],
   "source": [
    "array1 = np.array([1,2,3])#(3,)\n",
    "array2 = np.array([8,5,9]).reshape(3,1)#(3,1)\n",
    "array3 = array1+array2\n",
    "print(array1)\n",
    "print(array2)\n",
    "print(array3)"
   ]
  },
  {
   "cell_type": "code",
   "execution_count": 24,
   "id": "f84a6e97-cd57-4e9f-b8a8-d55b27e737c5",
   "metadata": {},
   "outputs": [
    {
     "name": "stdout",
     "output_type": "stream",
     "text": [
      "[[ 2  3  4]\n",
      " [ 5  6  7]\n",
      " [ 8  9 10]]\n"
     ]
    }
   ],
   "source": [
    "#Write a NumPy program to create a 3x3 matrix with values \n",
    "#ranging from 2 to 10 \n",
    "array1 = np.arange(2,11).reshape(3,3)\n",
    "print(array1)"
   ]
  },
  {
   "cell_type": "code",
   "execution_count": 31,
   "id": "4c2d96b0-7815-4734-82e1-36ee3ad1d265",
   "metadata": {},
   "outputs": [
    {
     "name": "stdout",
     "output_type": "stream",
     "text": [
      "[25 31 37 43 49 55]\n"
     ]
    }
   ],
   "source": [
    "#Write a NumPy program to generate six random integers between 25 and 55.\n",
    "array1 = np.linspace(25,55,6,dtype=\"int\")\n",
    "print(array1)"
   ]
  },
  {
   "cell_type": "code",
   "execution_count": 33,
   "id": "f09d3ce3-e334-4f37-82ea-ff504684ebf0",
   "metadata": {},
   "outputs": [
    {
     "name": "stdout",
     "output_type": "stream",
     "text": [
      "[ 8  4  7  1 34  2]\n",
      "[ 2 34  1  7  4  8]\n"
     ]
    }
   ],
   "source": [
    "#Write a NumPy program to reverse an array Ar \n",
    "array1 = np.array([8,4,7,1,34,2])\n",
    "print(array1)\n",
    "print(array1[::-1])"
   ]
  },
  {
   "cell_type": "code",
   "execution_count": 48,
   "id": "31cdf7b3-881a-4324-a66d-c7411a2435c5",
   "metadata": {},
   "outputs": [
    {
     "name": "stdout",
     "output_type": "stream",
     "text": [
      "[10 20 30]\n",
      "[40 50 60 70 80 90]\n",
      "[10 20 30 40 50 60 70 80 90]\n",
      "[10 20 30]\n",
      "[40, 50, 60, 70, 80, 90]\n",
      "[10 20 30 40 50 60 70 80 90]\n"
     ]
    }
   ],
   "source": [
    "'''\n",
    "Write a NumPy program to append values to the end of an array.  \n",
    "Expected Output: \n",
    "Original array: \n",
    "[10, 20, 30]  \n",
    "After append values to the end of the array: \n",
    "[10 20 30 40 50 60 70 80 90] \n",
    "'''\n",
    "array1 = np.array([10, 20, 30])\n",
    "print(array1)\n",
    "array2 = np.array([40, 50, 60, 70, 80, 90])\n",
    "print(array2)\n",
    "array1 = np.concatenate([array1,array2])\n",
    "print(array1)\n",
    "\n",
    "\n",
    "array1 = np.array([10, 20, 30])\n",
    "print(array1)\n",
    "data = [40, 50, 60, 70, 80, 90]\n",
    "print(data)\n",
    "array1 = np.append(array1,data)\n",
    "print(array1)"
   ]
  },
  {
   "cell_type": "code",
   "execution_count": 51,
   "id": "3ef35014-bf9b-4334-8cd9-475087934101",
   "metadata": {},
   "outputs": [
    {
     "name": "stdout",
     "output_type": "stream",
     "text": [
      "Array1:  [ 0 12 22 40 67]\n",
      "Array2:  [0, 22]\n",
      "Compare each element of array1 and array2\n",
      "[ True  True]\n"
     ]
    }
   ],
   "source": [
    "#Write a NumPy program to test whether each element of a 1-D array is also \n",
    "#present in a second array \n",
    "import numpy as np \n",
    "ar1 = np.array([0, 12, 22, 40, 67]) \n",
    "print(\"Array1: \",ar1) \n",
    "ar2 = [0, 22] \n",
    "print(\"Array2: \",ar2) \n",
    "print(\"Compare each element of array1 and array2\") \n",
    "# print(np.in1d(ar1, ar2)) \n",
    "print(np.isin(ar2, ar1))"
   ]
  },
  {
   "cell_type": "code",
   "execution_count": 52,
   "id": "199484f2-1d6d-4615-81e7-f8fe39278eb5",
   "metadata": {},
   "outputs": [
    {
     "name": "stdout",
     "output_type": "stream",
     "text": [
      "5\n",
      "8\n",
      "40\n"
     ]
    }
   ],
   "source": [
    "#Write a NumPy program to find the number of elements of an array, \n",
    "#length of one array element in bytes and total bytes consumed \n",
    "#by the elements \n",
    "ar1 = np.array([0, 12, 22, 40, 67]) \n",
    "print(ar1.size)\n",
    "print(ar1.itemsize)\n",
    "print(ar1.nbytes)"
   ]
  },
  {
   "cell_type": "code",
   "execution_count": null,
   "id": "1f03bfe9-1ff0-411d-846b-dbd8713d3c14",
   "metadata": {},
   "outputs": [],
   "source": []
  }
 ],
 "metadata": {
  "kernelspec": {
   "display_name": "Python 3 (ipykernel)",
   "language": "python",
   "name": "python3"
  },
  "language_info": {
   "codemirror_mode": {
    "name": "ipython",
    "version": 3
   },
   "file_extension": ".py",
   "mimetype": "text/x-python",
   "name": "python",
   "nbconvert_exporter": "python",
   "pygments_lexer": "ipython3",
   "version": "3.11.9"
  }
 },
 "nbformat": 4,
 "nbformat_minor": 5
}
